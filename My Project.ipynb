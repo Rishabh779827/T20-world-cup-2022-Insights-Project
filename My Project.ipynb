{
 "cells": [
  {
   "cell_type": "markdown",
   "id": "8f9672b2",
   "metadata": {},
   "source": [
    "## Insights from T20 World Cup 2022 (Project)"
   ]
  },
  {
   "cell_type": "code",
   "execution_count": 6,
   "id": "c0c1085f",
   "metadata": {},
   "outputs": [],
   "source": [
    "import pandas as pd \n",
    "import numpy as np \n",
    "import matplotlib.pyplot as plt"
   ]
  },
  {
   "cell_type": "code",
   "execution_count": 7,
   "id": "bde069be",
   "metadata": {},
   "outputs": [
    {
     "data": {
      "text/html": [
       "<div>\n",
       "<style scoped>\n",
       "    .dataframe tbody tr th:only-of-type {\n",
       "        vertical-align: middle;\n",
       "    }\n",
       "\n",
       "    .dataframe tbody tr th {\n",
       "        vertical-align: top;\n",
       "    }\n",
       "\n",
       "    .dataframe thead th {\n",
       "        text-align: right;\n",
       "    }\n",
       "</style>\n",
       "<table border=\"1\" class=\"dataframe\">\n",
       "  <thead>\n",
       "    <tr style=\"text-align: right;\">\n",
       "      <th></th>\n",
       "      <th>team1</th>\n",
       "      <th>team2</th>\n",
       "      <th>winner</th>\n",
       "      <th>margin</th>\n",
       "      <th>ground</th>\n",
       "      <th>matchDate</th>\n",
       "      <th>match_id</th>\n",
       "    </tr>\n",
       "  </thead>\n",
       "  <tbody>\n",
       "    <tr>\n",
       "      <th>0</th>\n",
       "      <td>Namibia</td>\n",
       "      <td>Sri Lanka</td>\n",
       "      <td>Namibia</td>\n",
       "      <td>55 runs</td>\n",
       "      <td>Geelong</td>\n",
       "      <td>Oct 16, 2022</td>\n",
       "      <td>T20I # 1823</td>\n",
       "    </tr>\n",
       "    <tr>\n",
       "      <th>1</th>\n",
       "      <td>Netherlands</td>\n",
       "      <td>U.A.E.</td>\n",
       "      <td>Netherlands</td>\n",
       "      <td>3 wickets</td>\n",
       "      <td>Geelong</td>\n",
       "      <td>Oct 16, 2022</td>\n",
       "      <td>T20I # 1825</td>\n",
       "    </tr>\n",
       "    <tr>\n",
       "      <th>2</th>\n",
       "      <td>Scotland</td>\n",
       "      <td>West Indies</td>\n",
       "      <td>Scotland</td>\n",
       "      <td>42 runs</td>\n",
       "      <td>Hobart</td>\n",
       "      <td>Oct 17, 2022</td>\n",
       "      <td>T20I # 1826</td>\n",
       "    </tr>\n",
       "    <tr>\n",
       "      <th>3</th>\n",
       "      <td>Ireland</td>\n",
       "      <td>Zimbabwe</td>\n",
       "      <td>Zimbabwe</td>\n",
       "      <td>31 runs</td>\n",
       "      <td>Hobart</td>\n",
       "      <td>Oct 17, 2022</td>\n",
       "      <td>T20I # 1828</td>\n",
       "    </tr>\n",
       "    <tr>\n",
       "      <th>4</th>\n",
       "      <td>Namibia</td>\n",
       "      <td>Netherlands</td>\n",
       "      <td>Netherlands</td>\n",
       "      <td>5 wickets</td>\n",
       "      <td>Geelong</td>\n",
       "      <td>Oct 18, 2022</td>\n",
       "      <td>T20I # 1830</td>\n",
       "    </tr>\n",
       "  </tbody>\n",
       "</table>\n",
       "</div>"
      ],
      "text/plain": [
       "         team1        team2       winner     margin   ground     matchDate  \\\n",
       "0      Namibia    Sri Lanka      Namibia    55 runs  Geelong  Oct 16, 2022   \n",
       "1  Netherlands       U.A.E.  Netherlands  3 wickets  Geelong  Oct 16, 2022   \n",
       "2     Scotland  West Indies     Scotland    42 runs   Hobart  Oct 17, 2022   \n",
       "3      Ireland     Zimbabwe     Zimbabwe    31 runs   Hobart  Oct 17, 2022   \n",
       "4      Namibia  Netherlands  Netherlands  5 wickets  Geelong  Oct 18, 2022   \n",
       "\n",
       "      match_id  \n",
       "0  T20I # 1823  \n",
       "1  T20I # 1825  \n",
       "2  T20I # 1826  \n",
       "3  T20I # 1828  \n",
       "4  T20I # 1830  "
      ]
     },
     "execution_count": 7,
     "metadata": {},
     "output_type": "execute_result"
    }
   ],
   "source": [
    "df_match=pd.read_csv(r\"C:\\Users\\LENOVO\\Desktop\\Data Science\\dim_match_summary.csv\")\n",
    "df_match.head()"
   ]
  },
  {
   "cell_type": "markdown",
   "id": "10992f68",
   "metadata": {},
   "source": [
    "**Now will see that what to choose batting or fielding on a particular ground**"
   ]
  },
  {
   "cell_type": "code",
   "execution_count": 4,
   "id": "6fad6bb0",
   "metadata": {},
   "outputs": [
    {
     "data": {
      "text/plain": [
       "Hobart       9\n",
       "Sydney       7\n",
       "Melbourne    7\n",
       "Adelaide     7\n",
       "Geelong      6\n",
       "Perth        5\n",
       "Brisbane     4\n",
       "Name: ground, dtype: int64"
      ]
     },
     "execution_count": 4,
     "metadata": {},
     "output_type": "execute_result"
    }
   ],
   "source": [
    "df_match.ground.value_counts()"
   ]
  },
  {
   "cell_type": "markdown",
   "id": "0ed63401",
   "metadata": {},
   "source": [
    "**Batting first team has won the most matches on Hobart ground**"
   ]
  },
  {
   "cell_type": "code",
   "execution_count": 5,
   "id": "2d518a3c",
   "metadata": {},
   "outputs": [
    {
     "data": {
      "text/plain": [
       "5"
      ]
     },
     "execution_count": 5,
     "metadata": {},
     "output_type": "execute_result"
    }
   ],
   "source": [
    "playing_on_hobart = df_match.apply(lambda x: 1 if x['team1'] == x['winner'] and x['ground'] == 'Hobart' else 0 , axis=1).sum()\n",
    "playing_on_hobart"
   ]
  },
  {
   "cell_type": "markdown",
   "id": "86c29746",
   "metadata": {},
   "source": [
    "**Chasing team has won the most match on Perth ground**"
   ]
  },
  {
   "cell_type": "code",
   "execution_count": 7,
   "id": "8e1cffca",
   "metadata": {},
   "outputs": [
    {
     "data": {
      "text/plain": [
       "4"
      ]
     },
     "execution_count": 7,
     "metadata": {},
     "output_type": "execute_result"
    }
   ],
   "source": [
    "playing_on_Perth = df_match.apply(lambda x: 1 if x['team2']== x['winner'] and x['ground'] == \"Perth\" else 0 ,axis =1).sum()\n",
    "playing_on_Perth"
   ]
  },
  {
   "cell_type": "code",
   "execution_count": 8,
   "id": "4df2cbc8",
   "metadata": {},
   "outputs": [],
   "source": [
    "Match_winner = df_match[(df_match.winner != 'no result') & (df_match.winner != 'abandoned')].winner.value_counts()"
   ]
  },
  {
   "cell_type": "code",
   "execution_count": 9,
   "id": "113ad9c1",
   "metadata": {},
   "outputs": [
    {
     "data": {
      "image/png": "[encoded data removed]",
      "text/plain": [
       "<Figure size 640x480 with 1 Axes>"
      ]
     },
     "metadata": {},
     "output_type": "display_data"
    }
   ],
   "source": [
    "ax = Match_winner.plot(x='winner',y='count',kind='bar',color='orange')\n",
    "ax.set_title('Total wins by team')\n",
    "plt.show()"
   ]
  },
  {
   "cell_type": "markdown",
   "id": "f44a1661",
   "metadata": {},
   "source": [
    "**Batting Summary**"
   ]
  },
  {
   "cell_type": "code",
   "execution_count": 9,
   "id": "169a90f8",
   "metadata": {},
   "outputs": [
    {
     "data": {
      "text/html": [
       "<div>\n",
       "<style scoped>\n",
       "    .dataframe tbody tr th:only-of-type {\n",
       "        vertical-align: middle;\n",
       "    }\n",
       "\n",
       "    .dataframe tbody tr th {\n",
       "        vertical-align: top;\n",
       "    }\n",
       "\n",
       "    .dataframe thead th {\n",
       "        text-align: right;\n",
       "    }\n",
       "</style>\n",
       "<table border=\"1\" class=\"dataframe\">\n",
       "  <thead>\n",
       "    <tr style=\"text-align: right;\">\n",
       "      <th></th>\n",
       "      <th>match</th>\n",
       "      <th>teamInnings</th>\n",
       "      <th>battingPos</th>\n",
       "      <th>batsmanName</th>\n",
       "      <th>runs</th>\n",
       "      <th>balls</th>\n",
       "      <th>4s</th>\n",
       "      <th>6s</th>\n",
       "      <th>SR</th>\n",
       "      <th>out/not_out</th>\n",
       "      <th>match_id</th>\n",
       "    </tr>\n",
       "  </thead>\n",
       "  <tbody>\n",
       "    <tr>\n",
       "      <th>0</th>\n",
       "      <td>Namibia Vs Sri Lanka</td>\n",
       "      <td>Namibia</td>\n",
       "      <td>1</td>\n",
       "      <td>Michael van Lingen</td>\n",
       "      <td>3</td>\n",
       "      <td>6</td>\n",
       "      <td>0</td>\n",
       "      <td>0</td>\n",
       "      <td>50.00</td>\n",
       "      <td>out</td>\n",
       "      <td>T20I # 1823</td>\n",
       "    </tr>\n",
       "    <tr>\n",
       "      <th>1</th>\n",
       "      <td>Namibia Vs Sri Lanka</td>\n",
       "      <td>Namibia</td>\n",
       "      <td>2</td>\n",
       "      <td>Divan la Cock</td>\n",
       "      <td>9</td>\n",
       "      <td>9</td>\n",
       "      <td>1</td>\n",
       "      <td>0</td>\n",
       "      <td>100.00</td>\n",
       "      <td>out</td>\n",
       "      <td>T20I # 1823</td>\n",
       "    </tr>\n",
       "    <tr>\n",
       "      <th>2</th>\n",
       "      <td>Namibia Vs Sri Lanka</td>\n",
       "      <td>Namibia</td>\n",
       "      <td>3</td>\n",
       "      <td>Jan Nicol Loftie-Eaton</td>\n",
       "      <td>20</td>\n",
       "      <td>12</td>\n",
       "      <td>1</td>\n",
       "      <td>2</td>\n",
       "      <td>166.66</td>\n",
       "      <td>out</td>\n",
       "      <td>T20I # 1823</td>\n",
       "    </tr>\n",
       "    <tr>\n",
       "      <th>3</th>\n",
       "      <td>Namibia Vs Sri Lanka</td>\n",
       "      <td>Namibia</td>\n",
       "      <td>4</td>\n",
       "      <td>Stephan Baard</td>\n",
       "      <td>26</td>\n",
       "      <td>24</td>\n",
       "      <td>2</td>\n",
       "      <td>0</td>\n",
       "      <td>108.33</td>\n",
       "      <td>out</td>\n",
       "      <td>T20I # 1823</td>\n",
       "    </tr>\n",
       "    <tr>\n",
       "      <th>4</th>\n",
       "      <td>Namibia Vs Sri Lanka</td>\n",
       "      <td>Namibia</td>\n",
       "      <td>5</td>\n",
       "      <td>Gerhard Erasmus(c)</td>\n",
       "      <td>20</td>\n",
       "      <td>24</td>\n",
       "      <td>0</td>\n",
       "      <td>0</td>\n",
       "      <td>83.33</td>\n",
       "      <td>out</td>\n",
       "      <td>T20I # 1823</td>\n",
       "    </tr>\n",
       "  </tbody>\n",
       "</table>\n",
       "</div>"
      ],
      "text/plain": [
       "                  match teamInnings  battingPos             batsmanName  runs  \\\n",
       "0  Namibia Vs Sri Lanka     Namibia           1      Michael van Lingen     3   \n",
       "1  Namibia Vs Sri Lanka     Namibia           2           Divan la Cock     9   \n",
       "2  Namibia Vs Sri Lanka     Namibia           3  Jan Nicol Loftie-Eaton    20   \n",
       "3  Namibia Vs Sri Lanka     Namibia           4           Stephan Baard    26   \n",
       "4  Namibia Vs Sri Lanka     Namibia           5      Gerhard Erasmus(c)    20   \n",
       "\n",
       "   balls  4s  6s      SR out/not_out     match_id  \n",
       "0      6   0   0   50.00         out  T20I # 1823  \n",
       "1      9   1   0  100.00         out  T20I # 1823  \n",
       "2     12   1   2  166.66         out  T20I # 1823  \n",
       "3     24   2   0  108.33         out  T20I # 1823  \n",
       "4     24   0   0   83.33         out  T20I # 1823  "
      ]
     },
     "execution_count": 9,
     "metadata": {},
     "output_type": "execute_result"
    }
   ],
   "source": [
    "batting=pd.read_csv(r\"C:\\Users\\LENOVO\\Desktop\\Data Science\\batting_summary.csv\")\n",
    "batting.head()"
   ]
  },
  {
   "cell_type": "markdown",
   "id": "15738fc9",
   "metadata": {},
   "source": [
    "**Top 5 run scorer in the tournament**"
   ]
  },
  {
   "cell_type": "code",
   "execution_count": 77,
   "id": "83ea450c",
   "metadata": {},
   "outputs": [],
   "source": [
    "Top_5 = batting.groupby('batsmanName')['runs'].sum().sort_values(ascending=False).head()"
   ]
  },
  {
   "cell_type": "code",
   "execution_count": 107,
   "id": "bf5f9183",
   "metadata": {},
   "outputs": [
    {
     "data": {
      "image/png": "[encoded data removed]",
      "text/plain": [
       "<Figure size 640x480 with 1 Axes>"
      ]
     },
     "metadata": {},
     "output_type": "display_data"
    }
   ],
   "source": [
    "Top_5.plot(kind='bar',color='purple')\n",
    "plt.title(\"Top 5 runs scorer in the tournament\")\n",
    "plt.ylabel(\"Runs\")\n",
    "plt.xlabel(\"Player Name\")\n",
    "plt.show()"
   ]
  },
  {
   "cell_type": "markdown",
   "id": "54f0d7b0",
   "metadata": {},
   "source": [
    "**Top 5 Middle order batsman**"
   ]
  },
  {
   "cell_type": "code",
   "execution_count": 113,
   "id": "1c8b1adf",
   "metadata": {},
   "outputs": [],
   "source": [
    "Top_5_mid_order=batting[(batting.battingPos >= 4) & (batting.battingPos <=6)].groupby('batsmanName').runs.sum().sort_values(ascending=False).head()"
   ]
  },
  {
   "cell_type": "code",
   "execution_count": 114,
   "id": "4f123f21",
   "metadata": {},
   "outputs": [
    {
     "data": {
      "image/png": "[encoded data removed]",
      "text/plain": [
       "<Figure size 640x480 with 1 Axes>"
      ]
     },
     "metadata": {},
     "output_type": "display_data"
    }
   ],
   "source": [
    "Top_5_mid_order.plot(kind='bar',color='red')\n",
    "plt.title(\"Top 5 Middle order batsman\")\n",
    "plt.ylabel(\"Runs Score\")\n",
    "plt.xlabel(\"Player's Name\")\n",
    "plt.show()"
   ]
  },
  {
   "cell_type": "markdown",
   "id": "6dd4d705",
   "metadata": {},
   "source": [
    "**Total Sixes in tournament**"
   ]
  },
  {
   "cell_type": "code",
   "execution_count": 12,
   "id": "e82bf68b",
   "metadata": {},
   "outputs": [
    {
     "data": {
      "text/plain": [
       "6s    331\n",
       "4s    909\n",
       "dtype: int64"
      ]
     },
     "execution_count": 12,
     "metadata": {},
     "output_type": "execute_result"
    }
   ],
   "source": [
    "batting.agg({'6s':sum , '4s':sum})"
   ]
  },
  {
   "cell_type": "code",
   "execution_count": 19,
   "id": "f448c3ce",
   "metadata": {},
   "outputs": [
    {
     "data": {
      "text/html": [
       "<div>\n",
       "<style scoped>\n",
       "    .dataframe tbody tr th:only-of-type {\n",
       "        vertical-align: middle;\n",
       "    }\n",
       "\n",
       "    .dataframe tbody tr th {\n",
       "        vertical-align: top;\n",
       "    }\n",
       "\n",
       "    .dataframe thead th {\n",
       "        text-align: right;\n",
       "    }\n",
       "</style>\n",
       "<table border=\"1\" class=\"dataframe\">\n",
       "  <thead>\n",
       "    <tr style=\"text-align: right;\">\n",
       "      <th></th>\n",
       "      <th>6s</th>\n",
       "    </tr>\n",
       "    <tr>\n",
       "      <th>batsmanName</th>\n",
       "      <th></th>\n",
       "    </tr>\n",
       "  </thead>\n",
       "  <tbody>\n",
       "    <tr>\n",
       "      <th>Sikandar Raza</th>\n",
       "      <td>11</td>\n",
       "    </tr>\n",
       "    <tr>\n",
       "      <th>Kusal Mendis</th>\n",
       "      <td>10</td>\n",
       "    </tr>\n",
       "    <tr>\n",
       "      <th>Alex Hales</th>\n",
       "      <td>10</td>\n",
       "    </tr>\n",
       "    <tr>\n",
       "      <th>Marcus Stoinis</th>\n",
       "      <td>9</td>\n",
       "    </tr>\n",
       "    <tr>\n",
       "      <th>Rilee Rossouw</th>\n",
       "      <td>9</td>\n",
       "    </tr>\n",
       "  </tbody>\n",
       "</table>\n",
       "</div>"
      ],
      "text/plain": [
       "                6s\n",
       "batsmanName       \n",
       "Sikandar Raza   11\n",
       "Kusal Mendis    10\n",
       "Alex Hales      10\n",
       "Marcus Stoinis   9\n",
       "Rilee Rossouw    9"
      ]
     },
     "execution_count": 19,
     "metadata": {},
     "output_type": "execute_result"
    }
   ],
   "source": [
    "batting.groupby('batsmanName').agg({'6s':sum}).sort_values('6s',ascending = False).head()"
   ]
  },
  {
   "cell_type": "code",
   "execution_count": 11,
   "id": "5ee1057a",
   "metadata": {},
   "outputs": [
    {
     "data": {
      "text/html": [
       "<div>\n",
       "<style scoped>\n",
       "    .dataframe tbody tr th:only-of-type {\n",
       "        vertical-align: middle;\n",
       "    }\n",
       "\n",
       "    .dataframe tbody tr th {\n",
       "        vertical-align: top;\n",
       "    }\n",
       "\n",
       "    .dataframe thead th {\n",
       "        text-align: right;\n",
       "    }\n",
       "</style>\n",
       "<table border=\"1\" class=\"dataframe\">\n",
       "  <thead>\n",
       "    <tr style=\"text-align: right;\">\n",
       "      <th></th>\n",
       "      <th>match</th>\n",
       "      <th>teamInnings</th>\n",
       "      <th>battingPos</th>\n",
       "      <th>batsmanName</th>\n",
       "      <th>runs</th>\n",
       "      <th>balls</th>\n",
       "      <th>4s</th>\n",
       "      <th>6s</th>\n",
       "      <th>SR</th>\n",
       "      <th>out/not_out</th>\n",
       "      <th>match_id</th>\n",
       "    </tr>\n",
       "  </thead>\n",
       "  <tbody>\n",
       "    <tr>\n",
       "      <th>259</th>\n",
       "      <td>Pakistan Vs India</td>\n",
       "      <td>India</td>\n",
       "      <td>1</td>\n",
       "      <td>KL Rahul</td>\n",
       "      <td>4</td>\n",
       "      <td>8</td>\n",
       "      <td>0</td>\n",
       "      <td>0</td>\n",
       "      <td>50.00</td>\n",
       "      <td>out</td>\n",
       "      <td>T20I # 1842</td>\n",
       "    </tr>\n",
       "    <tr>\n",
       "      <th>260</th>\n",
       "      <td>Pakistan Vs India</td>\n",
       "      <td>India</td>\n",
       "      <td>2</td>\n",
       "      <td>Rohit Sharma(c)</td>\n",
       "      <td>4</td>\n",
       "      <td>7</td>\n",
       "      <td>0</td>\n",
       "      <td>0</td>\n",
       "      <td>57.14</td>\n",
       "      <td>out</td>\n",
       "      <td>T20I # 1842</td>\n",
       "    </tr>\n",
       "    <tr>\n",
       "      <th>261</th>\n",
       "      <td>Pakistan Vs India</td>\n",
       "      <td>India</td>\n",
       "      <td>3</td>\n",
       "      <td>Virat Kohli</td>\n",
       "      <td>82</td>\n",
       "      <td>53</td>\n",
       "      <td>6</td>\n",
       "      <td>4</td>\n",
       "      <td>154.71</td>\n",
       "      <td>not_out</td>\n",
       "      <td>T20I # 1842</td>\n",
       "    </tr>\n",
       "    <tr>\n",
       "      <th>262</th>\n",
       "      <td>Pakistan Vs India</td>\n",
       "      <td>India</td>\n",
       "      <td>4</td>\n",
       "      <td>Suryakumar Yadav</td>\n",
       "      <td>15</td>\n",
       "      <td>10</td>\n",
       "      <td>2</td>\n",
       "      <td>0</td>\n",
       "      <td>150.00</td>\n",
       "      <td>out</td>\n",
       "      <td>T20I # 1842</td>\n",
       "    </tr>\n",
       "    <tr>\n",
       "      <th>263</th>\n",
       "      <td>Pakistan Vs India</td>\n",
       "      <td>India</td>\n",
       "      <td>5</td>\n",
       "      <td>Axar Patel</td>\n",
       "      <td>2</td>\n",
       "      <td>3</td>\n",
       "      <td>0</td>\n",
       "      <td>0</td>\n",
       "      <td>66.66</td>\n",
       "      <td>out</td>\n",
       "      <td>T20I # 1842</td>\n",
       "    </tr>\n",
       "  </tbody>\n",
       "</table>\n",
       "</div>"
      ],
      "text/plain": [
       "                 match teamInnings  battingPos       batsmanName  runs  balls  \\\n",
       "259  Pakistan Vs India       India           1          KL Rahul     4      8   \n",
       "260  Pakistan Vs India       India           2   Rohit Sharma(c)     4      7   \n",
       "261  Pakistan Vs India       India           3       Virat Kohli    82     53   \n",
       "262  Pakistan Vs India       India           4  Suryakumar Yadav    15     10   \n",
       "263  Pakistan Vs India       India           5        Axar Patel     2      3   \n",
       "\n",
       "     4s  6s      SR out/not_out     match_id  \n",
       "259   0   0   50.00         out  T20I # 1842  \n",
       "260   0   0   57.14         out  T20I # 1842  \n",
       "261   6   4  154.71     not_out  T20I # 1842  \n",
       "262   2   0  150.00         out  T20I # 1842  \n",
       "263   0   0   66.66         out  T20I # 1842  "
      ]
     },
     "execution_count": 11,
     "metadata": {},
     "output_type": "execute_result"
    }
   ],
   "source": [
    "batting[batting.teamInnings == 'India'].head()"
   ]
  },
  {
   "cell_type": "markdown",
   "id": "8f2dad77",
   "metadata": {},
   "source": [
    "**Innings Batted Indian player**"
   ]
  },
  {
   "cell_type": "code",
   "execution_count": 51,
   "id": "c7efdca3",
   "metadata": {},
   "outputs": [
    {
     "data": {
      "text/plain": [
       "KL Rahul               6\n",
       "Rohit Sharma(c)        6\n",
       "Virat Kohli            6\n",
       "Suryakumar Yadav       6\n",
       "Hardik Pandya          5\n",
       "Ravichandran Ashwin    4\n",
       "Axar Patel             3\n",
       "Dinesh Karthik         3\n",
       "Rishabh Pant           2\n",
       "Deepak Hooda           1\n",
       "Bhuvneshwar Kumar      1\n",
       "Mohammed Shami         1\n",
       "Arshdeep Singh         1\n",
       "Name: batsmanName, dtype: int64"
      ]
     },
     "execution_count": 51,
     "metadata": {},
     "output_type": "execute_result"
    }
   ],
   "source": [
    "batting[batting.teamInnings == \"India\"].batsmanName.value_counts()"
   ]
  },
  {
   "cell_type": "markdown",
   "id": "4cd7c7eb",
   "metadata": {},
   "source": [
    "**Most boundaries by Indian Batsman**"
   ]
  },
  {
   "cell_type": "code",
   "execution_count": 55,
   "id": "b39e15e5",
   "metadata": {},
   "outputs": [
    {
     "data": {
      "text/html": [
       "<div>\n",
       "<style scoped>\n",
       "    .dataframe tbody tr th:only-of-type {\n",
       "        vertical-align: middle;\n",
       "    }\n",
       "\n",
       "    .dataframe tbody tr th {\n",
       "        vertical-align: top;\n",
       "    }\n",
       "\n",
       "    .dataframe thead th {\n",
       "        text-align: right;\n",
       "    }\n",
       "</style>\n",
       "<table border=\"1\" class=\"dataframe\">\n",
       "  <thead>\n",
       "    <tr style=\"text-align: right;\">\n",
       "      <th></th>\n",
       "      <th>6s</th>\n",
       "      <th>4s</th>\n",
       "    </tr>\n",
       "    <tr>\n",
       "      <th>batsmanName</th>\n",
       "      <th></th>\n",
       "      <th></th>\n",
       "    </tr>\n",
       "  </thead>\n",
       "  <tbody>\n",
       "    <tr>\n",
       "      <th>Suryakumar Yadav</th>\n",
       "      <td>9</td>\n",
       "      <td>26</td>\n",
       "    </tr>\n",
       "    <tr>\n",
       "      <th>KL Rahul</th>\n",
       "      <td>8</td>\n",
       "      <td>8</td>\n",
       "    </tr>\n",
       "    <tr>\n",
       "      <th>Virat Kohli</th>\n",
       "      <td>8</td>\n",
       "      <td>25</td>\n",
       "    </tr>\n",
       "    <tr>\n",
       "      <th>Hardik Pandya</th>\n",
       "      <td>7</td>\n",
       "      <td>7</td>\n",
       "    </tr>\n",
       "    <tr>\n",
       "      <th>Rohit Sharma(c)</th>\n",
       "      <td>4</td>\n",
       "      <td>11</td>\n",
       "    </tr>\n",
       "  </tbody>\n",
       "</table>\n",
       "</div>"
      ],
      "text/plain": [
       "                  6s  4s\n",
       "batsmanName             \n",
       "Suryakumar Yadav   9  26\n",
       "KL Rahul           8   8\n",
       "Virat Kohli        8  25\n",
       "Hardik Pandya      7   7\n",
       "Rohit Sharma(c)    4  11"
      ]
     },
     "execution_count": 55,
     "metadata": {},
     "output_type": "execute_result"
    }
   ],
   "source": [
    "batting[batting.teamInnings == 'India'].groupby('batsmanName').agg({'6s':sum,'4s':sum}).sort_values('6s',ascending=False).head()"
   ]
  },
  {
   "cell_type": "markdown",
   "id": "2c7e45a4",
   "metadata": {},
   "source": [
    "**Filtering the above data to get the total stats of the Indian Batsman's**"
   ]
  },
  {
   "cell_type": "code",
   "execution_count": 11,
   "id": "e3ee857a",
   "metadata": {},
   "outputs": [],
   "source": [
    "data=batting[batting.teamInnings==\"India\"].groupby('batsmanName').agg({'runs':sum,'balls':sum}).sort_values('runs',ascending = False)"
   ]
  },
  {
   "cell_type": "code",
   "execution_count": 12,
   "id": "0f6554a1",
   "metadata": {},
   "outputs": [],
   "source": [
    "data['Strike Rate'] = data.apply(lambda row:'{:.2f}'.format((row['runs']/row['balls'])*100),axis=1)"
   ]
  },
  {
   "cell_type": "code",
   "execution_count": 21,
   "id": "0989e512",
   "metadata": {},
   "outputs": [],
   "source": [
    "data['4s']=batting[batting.teamInnings == 'India'].groupby('batsmanName')['4s'].sum()"
   ]
  },
  {
   "cell_type": "code",
   "execution_count": 27,
   "id": "36e4dbe5",
   "metadata": {},
   "outputs": [],
   "source": [
    "data['6s']=batting[batting.teamInnings == \"India\"].groupby('batsmanName')['6s'].sum()"
   ]
  },
  {
   "cell_type": "code",
   "execution_count": 15,
   "id": "fcbbe836",
   "metadata": {},
   "outputs": [],
   "source": [
    "data['Innings_played'] = batting[batting.teamInnings == \"India\"].batsmanName.value_counts()"
   ]
  },
  {
   "cell_type": "code",
   "execution_count": 28,
   "id": "f4214c84",
   "metadata": {},
   "outputs": [],
   "source": [
    "total = pd.DataFrame(data)\n"
   ]
  },
  {
   "cell_type": "code",
   "execution_count": 31,
   "id": "3a312e3c",
   "metadata": {},
   "outputs": [],
   "source": [
    "total = total.reset_index()"
   ]
  },
  {
   "cell_type": "code",
   "execution_count": 32,
   "id": "aecd26fc",
   "metadata": {},
   "outputs": [],
   "source": [
    "total = total.rename(columns={'index':'BatsmanName'})"
   ]
  },
  {
   "cell_type": "code",
   "execution_count": 33,
   "id": "0d870e57",
   "metadata": {},
   "outputs": [],
   "source": [
    "total.index = total.index +1"
   ]
  },
  {
   "cell_type": "markdown",
   "id": "cfa8241b",
   "metadata": {},
   "source": [
    "**Total Stats of the Indian Batsman's**"
   ]
  },
  {
   "cell_type": "code",
   "execution_count": 34,
   "id": "b8f4f69e",
   "metadata": {},
   "outputs": [
    {
     "data": {
      "text/html": [
       "<div>\n",
       "<style scoped>\n",
       "    .dataframe tbody tr th:only-of-type {\n",
       "        vertical-align: middle;\n",
       "    }\n",
       "\n",
       "    .dataframe tbody tr th {\n",
       "        vertical-align: top;\n",
       "    }\n",
       "\n",
       "    .dataframe thead th {\n",
       "        text-align: right;\n",
       "    }\n",
       "</style>\n",
       "<table border=\"1\" class=\"dataframe\">\n",
       "  <thead>\n",
       "    <tr style=\"text-align: right;\">\n",
       "      <th></th>\n",
       "      <th>batsmanName</th>\n",
       "      <th>runs</th>\n",
       "      <th>balls</th>\n",
       "      <th>Strike Rate</th>\n",
       "      <th>4s</th>\n",
       "      <th>6s</th>\n",
       "      <th>Innings_played</th>\n",
       "    </tr>\n",
       "  </thead>\n",
       "  <tbody>\n",
       "    <tr>\n",
       "      <th>1</th>\n",
       "      <td>Virat Kohli</td>\n",
       "      <td>296</td>\n",
       "      <td>217</td>\n",
       "      <td>136.41</td>\n",
       "      <td>25</td>\n",
       "      <td>8</td>\n",
       "      <td>6</td>\n",
       "    </tr>\n",
       "    <tr>\n",
       "      <th>2</th>\n",
       "      <td>Suryakumar Yadav</td>\n",
       "      <td>239</td>\n",
       "      <td>126</td>\n",
       "      <td>189.68</td>\n",
       "      <td>26</td>\n",
       "      <td>9</td>\n",
       "      <td>6</td>\n",
       "    </tr>\n",
       "    <tr>\n",
       "      <th>3</th>\n",
       "      <td>Hardik Pandya</td>\n",
       "      <td>128</td>\n",
       "      <td>97</td>\n",
       "      <td>131.96</td>\n",
       "      <td>7</td>\n",
       "      <td>7</td>\n",
       "      <td>5</td>\n",
       "    </tr>\n",
       "    <tr>\n",
       "      <th>4</th>\n",
       "      <td>KL Rahul</td>\n",
       "      <td>128</td>\n",
       "      <td>106</td>\n",
       "      <td>120.75</td>\n",
       "      <td>8</td>\n",
       "      <td>8</td>\n",
       "      <td>6</td>\n",
       "    </tr>\n",
       "    <tr>\n",
       "      <th>5</th>\n",
       "      <td>Rohit Sharma(c)</td>\n",
       "      <td>116</td>\n",
       "      <td>109</td>\n",
       "      <td>106.42</td>\n",
       "      <td>11</td>\n",
       "      <td>4</td>\n",
       "      <td>6</td>\n",
       "    </tr>\n",
       "    <tr>\n",
       "      <th>6</th>\n",
       "      <td>Ravichandran Ashwin</td>\n",
       "      <td>21</td>\n",
       "      <td>18</td>\n",
       "      <td>116.67</td>\n",
       "      <td>1</td>\n",
       "      <td>1</td>\n",
       "      <td>4</td>\n",
       "    </tr>\n",
       "    <tr>\n",
       "      <th>7</th>\n",
       "      <td>Dinesh Karthik</td>\n",
       "      <td>14</td>\n",
       "      <td>22</td>\n",
       "      <td>63.64</td>\n",
       "      <td>1</td>\n",
       "      <td>0</td>\n",
       "      <td>3</td>\n",
       "    </tr>\n",
       "    <tr>\n",
       "      <th>8</th>\n",
       "      <td>Axar Patel</td>\n",
       "      <td>9</td>\n",
       "      <td>9</td>\n",
       "      <td>100.00</td>\n",
       "      <td>1</td>\n",
       "      <td>0</td>\n",
       "      <td>3</td>\n",
       "    </tr>\n",
       "    <tr>\n",
       "      <th>9</th>\n",
       "      <td>Rishabh Pant</td>\n",
       "      <td>9</td>\n",
       "      <td>9</td>\n",
       "      <td>100.00</td>\n",
       "      <td>1</td>\n",
       "      <td>0</td>\n",
       "      <td>2</td>\n",
       "    </tr>\n",
       "    <tr>\n",
       "      <th>10</th>\n",
       "      <td>Bhuvneshwar Kumar</td>\n",
       "      <td>4</td>\n",
       "      <td>6</td>\n",
       "      <td>66.67</td>\n",
       "      <td>0</td>\n",
       "      <td>0</td>\n",
       "      <td>1</td>\n",
       "    </tr>\n",
       "    <tr>\n",
       "      <th>11</th>\n",
       "      <td>Arshdeep Singh</td>\n",
       "      <td>2</td>\n",
       "      <td>1</td>\n",
       "      <td>200.00</td>\n",
       "      <td>0</td>\n",
       "      <td>0</td>\n",
       "      <td>1</td>\n",
       "    </tr>\n",
       "    <tr>\n",
       "      <th>12</th>\n",
       "      <td>Deepak Hooda</td>\n",
       "      <td>0</td>\n",
       "      <td>3</td>\n",
       "      <td>0.00</td>\n",
       "      <td>0</td>\n",
       "      <td>0</td>\n",
       "      <td>1</td>\n",
       "    </tr>\n",
       "    <tr>\n",
       "      <th>13</th>\n",
       "      <td>Mohammed Shami</td>\n",
       "      <td>0</td>\n",
       "      <td>2</td>\n",
       "      <td>0.00</td>\n",
       "      <td>0</td>\n",
       "      <td>0</td>\n",
       "      <td>1</td>\n",
       "    </tr>\n",
       "  </tbody>\n",
       "</table>\n",
       "</div>"
      ],
      "text/plain": [
       "            batsmanName  runs  balls Strike Rate  4s  6s  Innings_played\n",
       "1           Virat Kohli   296    217      136.41  25   8               6\n",
       "2      Suryakumar Yadav   239    126      189.68  26   9               6\n",
       "3         Hardik Pandya   128     97      131.96   7   7               5\n",
       "4              KL Rahul   128    106      120.75   8   8               6\n",
       "5       Rohit Sharma(c)   116    109      106.42  11   4               6\n",
       "6   Ravichandran Ashwin    21     18      116.67   1   1               4\n",
       "7        Dinesh Karthik    14     22       63.64   1   0               3\n",
       "8            Axar Patel     9      9      100.00   1   0               3\n",
       "9          Rishabh Pant     9      9      100.00   1   0               2\n",
       "10    Bhuvneshwar Kumar     4      6       66.67   0   0               1\n",
       "11       Arshdeep Singh     2      1      200.00   0   0               1\n",
       "12         Deepak Hooda     0      3        0.00   0   0               1\n",
       "13       Mohammed Shami     0      2        0.00   0   0               1"
      ]
     },
     "execution_count": 34,
     "metadata": {},
     "output_type": "execute_result"
    }
   ],
   "source": [
    "total"
   ]
  },
  {
   "cell_type": "code",
   "execution_count": 35,
   "id": "1adf991d",
   "metadata": {},
   "outputs": [],
   "source": [
    "Virat_score = total[total.batsmanName == 'Virat Kohli']"
   ]
  },
  {
   "cell_type": "code",
   "execution_count": 36,
   "id": "214ddd93",
   "metadata": {},
   "outputs": [
    {
     "data": {
      "image/png": "[encoded data removed]",
      "text/plain": [
       "<Figure size 640x480 with 1 Axes>"
      ]
     },
     "metadata": {},
     "output_type": "display_data"
    }
   ],
   "source": [
    "Virat_score.plot(kind='bar')\n",
    "plt.title('Total stats of Virat Kohli')\n",
    "plt.xlabel('Data')\n",
    "plt.ylabel('score')\n",
    "plt.show()"
   ]
  },
  {
   "cell_type": "markdown",
   "id": "602c0f8a",
   "metadata": {},
   "source": [
    "**Bowling Summary**"
   ]
  },
  {
   "cell_type": "code",
   "execution_count": 37,
   "id": "c008971e",
   "metadata": {},
   "outputs": [
    {
     "data": {
      "text/html": [
       "<div>\n",
       "<style scoped>\n",
       "    .dataframe tbody tr th:only-of-type {\n",
       "        vertical-align: middle;\n",
       "    }\n",
       "\n",
       "    .dataframe tbody tr th {\n",
       "        vertical-align: top;\n",
       "    }\n",
       "\n",
       "    .dataframe thead th {\n",
       "        text-align: right;\n",
       "    }\n",
       "</style>\n",
       "<table border=\"1\" class=\"dataframe\">\n",
       "  <thead>\n",
       "    <tr style=\"text-align: right;\">\n",
       "      <th></th>\n",
       "      <th>match</th>\n",
       "      <th>bowlingTeam</th>\n",
       "      <th>bowlerName</th>\n",
       "      <th>overs</th>\n",
       "      <th>maiden</th>\n",
       "      <th>runs</th>\n",
       "      <th>wickets</th>\n",
       "      <th>economy</th>\n",
       "      <th>0s</th>\n",
       "      <th>4s</th>\n",
       "      <th>6s</th>\n",
       "      <th>wides</th>\n",
       "      <th>noBalls</th>\n",
       "      <th>match_id</th>\n",
       "    </tr>\n",
       "  </thead>\n",
       "  <tbody>\n",
       "    <tr>\n",
       "      <th>0</th>\n",
       "      <td>Namibia Vs Sri Lanka</td>\n",
       "      <td>Sri Lanka</td>\n",
       "      <td>Maheesh Theekshana</td>\n",
       "      <td>4.0</td>\n",
       "      <td>0</td>\n",
       "      <td>23</td>\n",
       "      <td>1</td>\n",
       "      <td>5.75</td>\n",
       "      <td>7</td>\n",
       "      <td>0</td>\n",
       "      <td>0</td>\n",
       "      <td>2</td>\n",
       "      <td>0</td>\n",
       "      <td>T20I # 1823</td>\n",
       "    </tr>\n",
       "    <tr>\n",
       "      <th>1</th>\n",
       "      <td>Namibia Vs Sri Lanka</td>\n",
       "      <td>Sri Lanka</td>\n",
       "      <td>Dushmantha Chameera</td>\n",
       "      <td>4.0</td>\n",
       "      <td>0</td>\n",
       "      <td>39</td>\n",
       "      <td>1</td>\n",
       "      <td>9.75</td>\n",
       "      <td>6</td>\n",
       "      <td>3</td>\n",
       "      <td>1</td>\n",
       "      <td>2</td>\n",
       "      <td>0</td>\n",
       "      <td>T20I # 1823</td>\n",
       "    </tr>\n",
       "    <tr>\n",
       "      <th>2</th>\n",
       "      <td>Namibia Vs Sri Lanka</td>\n",
       "      <td>Sri Lanka</td>\n",
       "      <td>Pramod Madushan</td>\n",
       "      <td>4.0</td>\n",
       "      <td>0</td>\n",
       "      <td>37</td>\n",
       "      <td>2</td>\n",
       "      <td>9.25</td>\n",
       "      <td>6</td>\n",
       "      <td>3</td>\n",
       "      <td>1</td>\n",
       "      <td>0</td>\n",
       "      <td>0</td>\n",
       "      <td>T20I # 1823</td>\n",
       "    </tr>\n",
       "    <tr>\n",
       "      <th>3</th>\n",
       "      <td>Namibia Vs Sri Lanka</td>\n",
       "      <td>Sri Lanka</td>\n",
       "      <td>Chamika Karunaratne</td>\n",
       "      <td>4.0</td>\n",
       "      <td>0</td>\n",
       "      <td>36</td>\n",
       "      <td>1</td>\n",
       "      <td>9.00</td>\n",
       "      <td>7</td>\n",
       "      <td>3</td>\n",
       "      <td>1</td>\n",
       "      <td>1</td>\n",
       "      <td>0</td>\n",
       "      <td>T20I # 1823</td>\n",
       "    </tr>\n",
       "    <tr>\n",
       "      <th>4</th>\n",
       "      <td>Namibia Vs Sri Lanka</td>\n",
       "      <td>Sri Lanka</td>\n",
       "      <td>Wanindu Hasaranga de Silva</td>\n",
       "      <td>4.0</td>\n",
       "      <td>0</td>\n",
       "      <td>27</td>\n",
       "      <td>1</td>\n",
       "      <td>6.75</td>\n",
       "      <td>8</td>\n",
       "      <td>1</td>\n",
       "      <td>1</td>\n",
       "      <td>0</td>\n",
       "      <td>0</td>\n",
       "      <td>T20I # 1823</td>\n",
       "    </tr>\n",
       "  </tbody>\n",
       "</table>\n",
       "</div>"
      ],
      "text/plain": [
       "                  match bowlingTeam                  bowlerName  overs  \\\n",
       "0  Namibia Vs Sri Lanka   Sri Lanka          Maheesh Theekshana    4.0   \n",
       "1  Namibia Vs Sri Lanka   Sri Lanka         Dushmantha Chameera    4.0   \n",
       "2  Namibia Vs Sri Lanka   Sri Lanka             Pramod Madushan    4.0   \n",
       "3  Namibia Vs Sri Lanka   Sri Lanka         Chamika Karunaratne    4.0   \n",
       "4  Namibia Vs Sri Lanka   Sri Lanka  Wanindu Hasaranga de Silva    4.0   \n",
       "\n",
       "   maiden  runs  wickets  economy  0s  4s  6s  wides  noBalls     match_id  \n",
       "0       0    23        1     5.75   7   0   0      2        0  T20I # 1823  \n",
       "1       0    39        1     9.75   6   3   1      2        0  T20I # 1823  \n",
       "2       0    37        2     9.25   6   3   1      0        0  T20I # 1823  \n",
       "3       0    36        1     9.00   7   3   1      1        0  T20I # 1823  \n",
       "4       0    27        1     6.75   8   1   1      0        0  T20I # 1823  "
      ]
     },
     "execution_count": 37,
     "metadata": {},
     "output_type": "execute_result"
    }
   ],
   "source": [
    "bowling = pd.read_csv(r'C:\\Users\\LENOVO\\Desktop\\t20_csv_files\\fact_bowling_summary.csv')\n",
    "bowling.head()"
   ]
  },
  {
   "cell_type": "markdown",
   "id": "f6417916",
   "metadata": {},
   "source": [
    "**Top Wicket taker bowler in the tournament**"
   ]
  },
  {
   "cell_type": "code",
   "execution_count": 38,
   "id": "f28532b0",
   "metadata": {},
   "outputs": [
    {
     "data": {
      "text/html": [
       "<div>\n",
       "<style scoped>\n",
       "    .dataframe tbody tr th:only-of-type {\n",
       "        vertical-align: middle;\n",
       "    }\n",
       "\n",
       "    .dataframe tbody tr th {\n",
       "        vertical-align: top;\n",
       "    }\n",
       "\n",
       "    .dataframe thead th {\n",
       "        text-align: right;\n",
       "    }\n",
       "</style>\n",
       "<table border=\"1\" class=\"dataframe\">\n",
       "  <thead>\n",
       "    <tr style=\"text-align: right;\">\n",
       "      <th></th>\n",
       "      <th>wickets</th>\n",
       "    </tr>\n",
       "    <tr>\n",
       "      <th>bowlerName</th>\n",
       "      <th></th>\n",
       "    </tr>\n",
       "  </thead>\n",
       "  <tbody>\n",
       "    <tr>\n",
       "      <th>Wanindu Hasaranga de Silva</th>\n",
       "      <td>15</td>\n",
       "    </tr>\n",
       "    <tr>\n",
       "      <th>Bas de Leede</th>\n",
       "      <td>13</td>\n",
       "    </tr>\n",
       "    <tr>\n",
       "      <th>Sam Curran</th>\n",
       "      <td>13</td>\n",
       "    </tr>\n",
       "    <tr>\n",
       "      <th>Blessing Muzarabani</th>\n",
       "      <td>12</td>\n",
       "    </tr>\n",
       "    <tr>\n",
       "      <th>Paul van Meekeren</th>\n",
       "      <td>11</td>\n",
       "    </tr>\n",
       "  </tbody>\n",
       "</table>\n",
       "</div>"
      ],
      "text/plain": [
       "                            wickets\n",
       "bowlerName                         \n",
       "Wanindu Hasaranga de Silva       15\n",
       "Bas de Leede                     13\n",
       "Sam Curran                       13\n",
       "Blessing Muzarabani              12\n",
       "Paul van Meekeren                11"
      ]
     },
     "execution_count": 38,
     "metadata": {},
     "output_type": "execute_result"
    }
   ],
   "source": [
    "bowling.groupby('bowlerName').agg({'wickets':sum}).sort_values('wickets',ascending=False).head()"
   ]
  },
  {
   "cell_type": "markdown",
   "id": "3fabb504",
   "metadata": {},
   "source": [
    "**Most Expensive bowler's**"
   ]
  },
  {
   "cell_type": "code",
   "execution_count": 15,
   "id": "4c35267d",
   "metadata": {},
   "outputs": [
    {
     "data": {
      "text/html": [
       "<div>\n",
       "<style scoped>\n",
       "    .dataframe tbody tr th:only-of-type {\n",
       "        vertical-align: middle;\n",
       "    }\n",
       "\n",
       "    .dataframe tbody tr th {\n",
       "        vertical-align: top;\n",
       "    }\n",
       "\n",
       "    .dataframe thead th {\n",
       "        text-align: right;\n",
       "    }\n",
       "</style>\n",
       "<table border=\"1\" class=\"dataframe\">\n",
       "  <thead>\n",
       "    <tr style=\"text-align: right;\">\n",
       "      <th></th>\n",
       "      <th>runs</th>\n",
       "      <th>overs</th>\n",
       "      <th>economy</th>\n",
       "    </tr>\n",
       "    <tr>\n",
       "      <th>bowlerName</th>\n",
       "      <th></th>\n",
       "      <th></th>\n",
       "      <th></th>\n",
       "    </tr>\n",
       "  </thead>\n",
       "  <tbody>\n",
       "    <tr>\n",
       "      <th>Barry McCarthy</th>\n",
       "      <td>227</td>\n",
       "      <td>25.0</td>\n",
       "      <td>9.1</td>\n",
       "    </tr>\n",
       "    <tr>\n",
       "      <th>Mark Adair</th>\n",
       "      <td>212</td>\n",
       "      <td>24.0</td>\n",
       "      <td>8.8</td>\n",
       "    </tr>\n",
       "    <tr>\n",
       "      <th>Maheesh Theekshana</th>\n",
       "      <td>202</td>\n",
       "      <td>30.1</td>\n",
       "      <td>6.7</td>\n",
       "    </tr>\n",
       "    <tr>\n",
       "      <th>Blessing Muzarabani</th>\n",
       "      <td>199</td>\n",
       "      <td>26.0</td>\n",
       "      <td>7.7</td>\n",
       "    </tr>\n",
       "    <tr>\n",
       "      <th>Wanindu Hasaranga de Silva</th>\n",
       "      <td>199</td>\n",
       "      <td>31.0</td>\n",
       "      <td>6.4</td>\n",
       "    </tr>\n",
       "    <tr>\n",
       "      <th>Paul van Meekeren</th>\n",
       "      <td>198</td>\n",
       "      <td>31.0</td>\n",
       "      <td>6.4</td>\n",
       "    </tr>\n",
       "    <tr>\n",
       "      <th>Richard Ngarava</th>\n",
       "      <td>197</td>\n",
       "      <td>28.0</td>\n",
       "      <td>7.0</td>\n",
       "    </tr>\n",
       "    <tr>\n",
       "      <th>Fred Klaassen</th>\n",
       "      <td>191</td>\n",
       "      <td>30.0</td>\n",
       "      <td>6.4</td>\n",
       "    </tr>\n",
       "    <tr>\n",
       "      <th>Josh Little</th>\n",
       "      <td>189</td>\n",
       "      <td>27.0</td>\n",
       "      <td>7.0</td>\n",
       "    </tr>\n",
       "    <tr>\n",
       "      <th>Gareth Delany</th>\n",
       "      <td>185</td>\n",
       "      <td>23.3</td>\n",
       "      <td>7.9</td>\n",
       "    </tr>\n",
       "  </tbody>\n",
       "</table>\n",
       "</div>"
      ],
      "text/plain": [
       "                            runs  overs  economy\n",
       "bowlerName                                      \n",
       "Barry McCarthy               227   25.0      9.1\n",
       "Mark Adair                   212   24.0      8.8\n",
       "Maheesh Theekshana           202   30.1      6.7\n",
       "Blessing Muzarabani          199   26.0      7.7\n",
       "Wanindu Hasaranga de Silva   199   31.0      6.4\n",
       "Paul van Meekeren            198   31.0      6.4\n",
       "Richard Ngarava              197   28.0      7.0\n",
       "Fred Klaassen                191   30.0      6.4\n",
       "Josh Little                  189   27.0      7.0\n",
       "Gareth Delany                185   23.3      7.9"
      ]
     },
     "execution_count": 15,
     "metadata": {},
     "output_type": "execute_result"
    }
   ],
   "source": [
    "bowling.groupby('bowlerName').agg({'runs':'sum','overs':'sum'}).\\\n",
    "eval('economy = runs/overs').round(1).sort_values('runs',ascending = False).head(10)"
   ]
  },
  {
   "cell_type": "code",
   "execution_count": 39,
   "id": "c26de967",
   "metadata": {},
   "outputs": [
    {
     "data": {
      "text/html": [
       "<div>\n",
       "<style scoped>\n",
       "    .dataframe tbody tr th:only-of-type {\n",
       "        vertical-align: middle;\n",
       "    }\n",
       "\n",
       "    .dataframe tbody tr th {\n",
       "        vertical-align: top;\n",
       "    }\n",
       "\n",
       "    .dataframe thead th {\n",
       "        text-align: right;\n",
       "    }\n",
       "</style>\n",
       "<table border=\"1\" class=\"dataframe\">\n",
       "  <thead>\n",
       "    <tr style=\"text-align: right;\">\n",
       "      <th></th>\n",
       "      <th>match</th>\n",
       "      <th>bowlingTeam</th>\n",
       "      <th>bowlerName</th>\n",
       "      <th>overs</th>\n",
       "      <th>maiden</th>\n",
       "      <th>runs</th>\n",
       "      <th>wickets</th>\n",
       "      <th>economy</th>\n",
       "      <th>0s</th>\n",
       "      <th>4s</th>\n",
       "      <th>6s</th>\n",
       "      <th>wides</th>\n",
       "      <th>noBalls</th>\n",
       "      <th>match_id</th>\n",
       "    </tr>\n",
       "  </thead>\n",
       "  <tbody>\n",
       "    <tr>\n",
       "      <th>181</th>\n",
       "      <td>Pakistan Vs India</td>\n",
       "      <td>India</td>\n",
       "      <td>Bhuvneshwar Kumar</td>\n",
       "      <td>4.0</td>\n",
       "      <td>0</td>\n",
       "      <td>22</td>\n",
       "      <td>1</td>\n",
       "      <td>5.50</td>\n",
       "      <td>17</td>\n",
       "      <td>1</td>\n",
       "      <td>1</td>\n",
       "      <td>3</td>\n",
       "      <td>0</td>\n",
       "      <td>T20I # 1842</td>\n",
       "    </tr>\n",
       "    <tr>\n",
       "      <th>182</th>\n",
       "      <td>Pakistan Vs India</td>\n",
       "      <td>India</td>\n",
       "      <td>Arshdeep Singh</td>\n",
       "      <td>4.0</td>\n",
       "      <td>0</td>\n",
       "      <td>32</td>\n",
       "      <td>3</td>\n",
       "      <td>8.00</td>\n",
       "      <td>10</td>\n",
       "      <td>3</td>\n",
       "      <td>1</td>\n",
       "      <td>1</td>\n",
       "      <td>0</td>\n",
       "      <td>T20I # 1842</td>\n",
       "    </tr>\n",
       "    <tr>\n",
       "      <th>183</th>\n",
       "      <td>Pakistan Vs India</td>\n",
       "      <td>India</td>\n",
       "      <td>Mohammed Shami</td>\n",
       "      <td>4.0</td>\n",
       "      <td>0</td>\n",
       "      <td>25</td>\n",
       "      <td>1</td>\n",
       "      <td>6.25</td>\n",
       "      <td>14</td>\n",
       "      <td>4</td>\n",
       "      <td>0</td>\n",
       "      <td>1</td>\n",
       "      <td>0</td>\n",
       "      <td>T20I # 1842</td>\n",
       "    </tr>\n",
       "    <tr>\n",
       "      <th>184</th>\n",
       "      <td>Pakistan Vs India</td>\n",
       "      <td>India</td>\n",
       "      <td>Hardik Pandya</td>\n",
       "      <td>4.0</td>\n",
       "      <td>0</td>\n",
       "      <td>30</td>\n",
       "      <td>3</td>\n",
       "      <td>7.50</td>\n",
       "      <td>10</td>\n",
       "      <td>4</td>\n",
       "      <td>0</td>\n",
       "      <td>0</td>\n",
       "      <td>0</td>\n",
       "      <td>T20I # 1842</td>\n",
       "    </tr>\n",
       "    <tr>\n",
       "      <th>185</th>\n",
       "      <td>Pakistan Vs India</td>\n",
       "      <td>India</td>\n",
       "      <td>Ravichandran Ashwin</td>\n",
       "      <td>3.0</td>\n",
       "      <td>0</td>\n",
       "      <td>23</td>\n",
       "      <td>0</td>\n",
       "      <td>7.66</td>\n",
       "      <td>5</td>\n",
       "      <td>0</td>\n",
       "      <td>1</td>\n",
       "      <td>1</td>\n",
       "      <td>0</td>\n",
       "      <td>T20I # 1842</td>\n",
       "    </tr>\n",
       "  </tbody>\n",
       "</table>\n",
       "</div>"
      ],
      "text/plain": [
       "                 match bowlingTeam           bowlerName  overs  maiden  runs  \\\n",
       "181  Pakistan Vs India       India    Bhuvneshwar Kumar    4.0       0    22   \n",
       "182  Pakistan Vs India       India       Arshdeep Singh    4.0       0    32   \n",
       "183  Pakistan Vs India       India       Mohammed Shami    4.0       0    25   \n",
       "184  Pakistan Vs India       India        Hardik Pandya    4.0       0    30   \n",
       "185  Pakistan Vs India       India  Ravichandran Ashwin    3.0       0    23   \n",
       "\n",
       "     wickets  economy  0s  4s  6s  wides  noBalls     match_id  \n",
       "181        1     5.50  17   1   1      3        0  T20I # 1842  \n",
       "182        3     8.00  10   3   1      1        0  T20I # 1842  \n",
       "183        1     6.25  14   4   0      1        0  T20I # 1842  \n",
       "184        3     7.50  10   4   0      0        0  T20I # 1842  \n",
       "185        0     7.66   5   0   1      1        0  T20I # 1842  "
      ]
     },
     "execution_count": 39,
     "metadata": {},
     "output_type": "execute_result"
    }
   ],
   "source": [
    "bowling[bowling.bowlingTeam == \"India\"].head()"
   ]
  },
  {
   "cell_type": "markdown",
   "id": "5d3c8c63",
   "metadata": {},
   "source": [
    "**Matches played by Indian bowler's**"
   ]
  },
  {
   "cell_type": "code",
   "execution_count": 49,
   "id": "b4f99073",
   "metadata": {},
   "outputs": [
    {
     "data": {
      "text/plain": [
       "Bhuvneshwar Kumar      6\n",
       "Arshdeep Singh         6\n",
       "Mohammed Shami         6\n",
       "Hardik Pandya          6\n",
       "Ravichandran Ashwin    6\n",
       "Axar Patel             5\n",
       "Name: bowlerName, dtype: int64"
      ]
     },
     "execution_count": 49,
     "metadata": {},
     "output_type": "execute_result"
    }
   ],
   "source": [
    "bowling[bowling.bowlingTeam == \"India\"].bowlerName.value_counts()"
   ]
  },
  {
   "cell_type": "markdown",
   "id": "23418e49",
   "metadata": {},
   "source": [
    "**Top wicket taker bowler for India**"
   ]
  },
  {
   "cell_type": "code",
   "execution_count": 50,
   "id": "11415788",
   "metadata": {},
   "outputs": [
    {
     "data": {
      "text/html": [
       "<div>\n",
       "<style scoped>\n",
       "    .dataframe tbody tr th:only-of-type {\n",
       "        vertical-align: middle;\n",
       "    }\n",
       "\n",
       "    .dataframe tbody tr th {\n",
       "        vertical-align: top;\n",
       "    }\n",
       "\n",
       "    .dataframe thead th {\n",
       "        text-align: right;\n",
       "    }\n",
       "</style>\n",
       "<table border=\"1\" class=\"dataframe\">\n",
       "  <thead>\n",
       "    <tr style=\"text-align: right;\">\n",
       "      <th></th>\n",
       "      <th>wickets</th>\n",
       "    </tr>\n",
       "    <tr>\n",
       "      <th>bowlerName</th>\n",
       "      <th></th>\n",
       "    </tr>\n",
       "  </thead>\n",
       "  <tbody>\n",
       "    <tr>\n",
       "      <th>Arshdeep Singh</th>\n",
       "      <td>10</td>\n",
       "    </tr>\n",
       "  </tbody>\n",
       "</table>\n",
       "</div>"
      ],
      "text/plain": [
       "                wickets\n",
       "bowlerName             \n",
       "Arshdeep Singh       10"
      ]
     },
     "execution_count": 50,
     "metadata": {},
     "output_type": "execute_result"
    }
   ],
   "source": [
    "bowling[bowling.bowlingTeam == 'India'].groupby('bowlerName').agg({'wickets':sum}).head(1)"
   ]
  },
  {
   "cell_type": "markdown",
   "id": "428fa2ae",
   "metadata": {},
   "source": [
    "**Statistics of Indian bowler's**"
   ]
  },
  {
   "cell_type": "code",
   "execution_count": 59,
   "id": "335d3724",
   "metadata": {},
   "outputs": [
    {
     "data": {
      "text/html": [
       "<div>\n",
       "<style scoped>\n",
       "    .dataframe tbody tr th:only-of-type {\n",
       "        vertical-align: middle;\n",
       "    }\n",
       "\n",
       "    .dataframe tbody tr th {\n",
       "        vertical-align: top;\n",
       "    }\n",
       "\n",
       "    .dataframe thead th {\n",
       "        text-align: right;\n",
       "    }\n",
       "</style>\n",
       "<table border=\"1\" class=\"dataframe\">\n",
       "  <thead>\n",
       "    <tr style=\"text-align: right;\">\n",
       "      <th></th>\n",
       "      <th>runs</th>\n",
       "      <th>overs</th>\n",
       "      <th>wickets</th>\n",
       "      <th>economy</th>\n",
       "    </tr>\n",
       "    <tr>\n",
       "      <th>bowlerName</th>\n",
       "      <th></th>\n",
       "      <th></th>\n",
       "      <th></th>\n",
       "      <th></th>\n",
       "    </tr>\n",
       "  </thead>\n",
       "  <tbody>\n",
       "    <tr>\n",
       "      <th>Arshdeep Singh</th>\n",
       "      <td>156</td>\n",
       "      <td>20.0</td>\n",
       "      <td>10</td>\n",
       "      <td>7.8</td>\n",
       "    </tr>\n",
       "    <tr>\n",
       "      <th>Ravichandran Ashwin</th>\n",
       "      <td>155</td>\n",
       "      <td>19.0</td>\n",
       "      <td>6</td>\n",
       "      <td>8.2</td>\n",
       "    </tr>\n",
       "    <tr>\n",
       "      <th>Hardik Pandya</th>\n",
       "      <td>146</td>\n",
       "      <td>18.0</td>\n",
       "      <td>8</td>\n",
       "      <td>8.1</td>\n",
       "    </tr>\n",
       "    <tr>\n",
       "      <th>Mohammed Shami</th>\n",
       "      <td>143</td>\n",
       "      <td>20.0</td>\n",
       "      <td>6</td>\n",
       "      <td>7.2</td>\n",
       "    </tr>\n",
       "    <tr>\n",
       "      <th>Axar Patel</th>\n",
       "      <td>115</td>\n",
       "      <td>13.2</td>\n",
       "      <td>3</td>\n",
       "      <td>8.7</td>\n",
       "    </tr>\n",
       "    <tr>\n",
       "      <th>Bhuvneshwar Kumar</th>\n",
       "      <td>115</td>\n",
       "      <td>18.4</td>\n",
       "      <td>4</td>\n",
       "      <td>6.3</td>\n",
       "    </tr>\n",
       "  </tbody>\n",
       "</table>\n",
       "</div>"
      ],
      "text/plain": [
       "                     runs  overs  wickets  economy\n",
       "bowlerName                                        \n",
       "Arshdeep Singh        156   20.0       10      7.8\n",
       "Ravichandran Ashwin   155   19.0        6      8.2\n",
       "Hardik Pandya         146   18.0        8      8.1\n",
       "Mohammed Shami        143   20.0        6      7.2\n",
       "Axar Patel            115   13.2        3      8.7\n",
       "Bhuvneshwar Kumar     115   18.4        4      6.3"
      ]
     },
     "execution_count": 59,
     "metadata": {},
     "output_type": "execute_result"
    }
   ],
   "source": [
    "bowling[bowling.bowlingTeam == 'India'].groupby('bowlerName').\\\n",
    "agg({'runs':'sum','overs':'sum','wickets':'sum'}).\\\n",
    "eval('economy = runs/overs').round(1).sort_values('runs',ascending = False)"
   ]
  },
  {
   "cell_type": "code",
   "execution_count": 17,
   "id": "5aedbf98",
   "metadata": {},
   "outputs": [
    {
     "data": {
      "text/html": [
       "<div>\n",
       "<style scoped>\n",
       "    .dataframe tbody tr th:only-of-type {\n",
       "        vertical-align: middle;\n",
       "    }\n",
       "\n",
       "    .dataframe tbody tr th {\n",
       "        vertical-align: top;\n",
       "    }\n",
       "\n",
       "    .dataframe thead th {\n",
       "        text-align: right;\n",
       "    }\n",
       "</style>\n",
       "<table border=\"1\" class=\"dataframe\">\n",
       "  <thead>\n",
       "    <tr style=\"text-align: right;\">\n",
       "      <th></th>\n",
       "      <th>0s</th>\n",
       "      <th>wides</th>\n",
       "      <th>noBalls</th>\n",
       "      <th>6s</th>\n",
       "    </tr>\n",
       "    <tr>\n",
       "      <th>bowlerName</th>\n",
       "      <th></th>\n",
       "      <th></th>\n",
       "      <th></th>\n",
       "      <th></th>\n",
       "    </tr>\n",
       "  </thead>\n",
       "  <tbody>\n",
       "    <tr>\n",
       "      <th>Bhuvneshwar Kumar</th>\n",
       "      <td>69</td>\n",
       "      <td>5</td>\n",
       "      <td>0</td>\n",
       "      <td>5</td>\n",
       "    </tr>\n",
       "    <tr>\n",
       "      <th>Mohammed Shami</th>\n",
       "      <td>60</td>\n",
       "      <td>1</td>\n",
       "      <td>0</td>\n",
       "      <td>5</td>\n",
       "    </tr>\n",
       "    <tr>\n",
       "      <th>Arshdeep Singh</th>\n",
       "      <td>55</td>\n",
       "      <td>6</td>\n",
       "      <td>1</td>\n",
       "      <td>2</td>\n",
       "    </tr>\n",
       "    <tr>\n",
       "      <th>Hardik Pandya</th>\n",
       "      <td>42</td>\n",
       "      <td>3</td>\n",
       "      <td>1</td>\n",
       "      <td>5</td>\n",
       "    </tr>\n",
       "    <tr>\n",
       "      <th>Ravichandran Ashwin</th>\n",
       "      <td>41</td>\n",
       "      <td>5</td>\n",
       "      <td>0</td>\n",
       "      <td>8</td>\n",
       "    </tr>\n",
       "    <tr>\n",
       "      <th>Axar Patel</th>\n",
       "      <td>29</td>\n",
       "      <td>0</td>\n",
       "      <td>0</td>\n",
       "      <td>6</td>\n",
       "    </tr>\n",
       "  </tbody>\n",
       "</table>\n",
       "</div>"
      ],
      "text/plain": [
       "                     0s  wides  noBalls  6s\n",
       "bowlerName                                 \n",
       "Bhuvneshwar Kumar    69      5        0   5\n",
       "Mohammed Shami       60      1        0   5\n",
       "Arshdeep Singh       55      6        1   2\n",
       "Hardik Pandya        42      3        1   5\n",
       "Ravichandran Ashwin  41      5        0   8\n",
       "Axar Patel           29      0        0   6"
      ]
     },
     "execution_count": 17,
     "metadata": {},
     "output_type": "execute_result"
    }
   ],
   "source": [
    "bowling[bowling.bowlingTeam == \"India\"].groupby('bowlerName').agg({'0s':sum,'wides':sum,'noBalls':sum,'6s':sum}).\\\n",
    "sort_values('0s',ascending = False)"
   ]
  },
  {
   "cell_type": "code",
   "execution_count": null,
   "id": "f2091f79",
   "metadata": {},
   "outputs": [],
   "source": []
  }
 ],
 "metadata": {
  "kernelspec": {
   "display_name": "Python 3 (ipykernel)",
   "language": "python",
   "name": "python3"
  },
  "language_info": {
   "codemirror_mode": {
    "name": "ipython",
    "version": 3
   },
   "file_extension": ".py",
   "mimetype": "text/x-python",
   "name": "python",
   "nbconvert_exporter": "python",
   "pygments_lexer": "ipython3",
   "version": "3.9.13"
  }
 },
 "nbformat": 4,
 "nbformat_minor": 5
}
